{
 "cells": [
  {
   "cell_type": "markdown",
   "metadata": {},
   "source": [
    "** Our goal is to create optimal Skoltech schedule. **\n",
    "\n",
    "Lets use the following notation:\n",
    "$$ A_{chd} \\in \\{0,1\\},$$ \n",
    "\n",
    "where $c = \\overline {1 \\dots n} \\quad$ - the class index, $ h \\in \\{1, 2, 3\\}$ - hour index, and $d \\in\\{1,2,3, 4\\}$ refers to the one of the four studiyng days. Then, the tensor $A_{chd}$ containts information about whether the class $c$ is going to be\n",
    "taught at hour slot $h$ on the day $d$ ($A_{chd} = 1$) or not ($A_{chd} = 0$).\n",
    "\n",
    "## Objective\n",
    "One of the possible ways to model objective of this optimization problem is to minimize the number of classes within each hour slot(i.e we want to maximize our ability to make choice among greater number of classes):\n",
    "\n",
    "$$ \\min\\limits_A \\quad \\sum\\limits_{h = 1}^{3} \\sum\\limits_{d = 1}^{4}{\\Bigl(\\sum\\limits_{c=1}^{n} A_{chd}\\Bigr)}^2 $$\n",
    "\n",
    "### OR\n",
    " we can minimize the number of classes within one day:\n",
    " $$ \\min\\limits_A \\quad \\sum\\limits_{d = 1}^{4} {\\Bigl(\\sum\\limits_{c,h} A_{chd}\\Bigr)}^2 $$\n",
    " \n",
    "## Constraints\n",
    "Our **Edu** office told us that we have two types of constraints which we should take into consideration:\n",
    "* The number of hours of each class is defined:\n",
    "$$ \\sum\\limits_{d ,h} A_{cdh} \\ge {\\alpha}_c, \\quad c = 1 \\dots n$$\n",
    "* The are pairs (the three) of classes that should not be intersected within one hour slot (core courses):\n",
    "$$ A_{c_ihd} + A_{c_jhd} \\le 1, \\quad \\forall  \\quad h, d $$\n",
    "\n",
    "# What else?"
   ]
  },
  {
   "cell_type": "code",
   "execution_count": null,
   "metadata": {
    "collapsed": true
   },
   "outputs": [],
   "source": []
  }
 ],
 "metadata": {
  "kernelspec": {
   "display_name": "Python 2",
   "language": "python",
   "name": "python2"
  },
  "language_info": {
   "codemirror_mode": {
    "name": "ipython",
    "version": 2
   },
   "file_extension": ".py",
   "mimetype": "text/x-python",
   "name": "python",
   "nbconvert_exporter": "python",
   "pygments_lexer": "ipython2",
   "version": "2.7.10"
  }
 },
 "nbformat": 4,
 "nbformat_minor": 0
}
